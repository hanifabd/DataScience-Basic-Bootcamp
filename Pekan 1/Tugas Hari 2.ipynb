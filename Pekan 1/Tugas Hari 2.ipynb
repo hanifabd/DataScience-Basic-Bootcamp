{
 "cells": [
  {
   "cell_type": "markdown",
   "metadata": {
    "colab_type": "text",
    "id": "I6jmLA-RYrt5"
   },
   "source": [
    "<h2>Soal 1: Helper Function</h2>\n",
    "\n",
    "Jawab Pertanyaan di bawah ini:\n",
    "\n",
    "Misalkan kamu ingin mengetahui tentang kegunaan fungsi 'len' di Python, maka fungsi apa yang bisa kamu gunakan untuk menolong kamu?"
   ]
  },
  {
   "cell_type": "code",
   "execution_count": 1,
   "metadata": {
    "colab": {},
    "colab_type": "code",
    "id": "VrvyQxGJYrt9"
   },
   "outputs": [
    {
     "name": "stdout",
     "output_type": "stream",
     "text": [
      "Help on built-in function len in module builtins:\n",
      "\n",
      "len(obj, /)\n",
      "    Return the number of items in a container.\n",
      "\n"
     ]
    }
   ],
   "source": [
    "# lengkapi code ini\n",
    "help(len)"
   ]
  },
  {
   "cell_type": "markdown",
   "metadata": {
    "colab_type": "text",
    "id": "KrcuFTuAYruT"
   },
   "source": [
    "<h2>Soal 2: Built-in Function</h2>\n",
    "\n",
    "Jawab Pertanyaan di bawah ini:\n",
    "    \n",
    "Apa itu built-in Function?\n",
    "\n",
    "Sebutkan 3 built-in Function di pyhon!\n",
    "\n",
    "Berikan contoh masing2 1 cara penggunaan built-in function yang kamu sebutkan sebelumnya"
   ]
  },
  {
   "cell_type": "markdown",
   "metadata": {
    "colab_type": "text",
    "id": "xro-58_CYruW"
   },
   "source": [
    "//isi jawaban text disini\n",
    "built in function adalah fungsi yang telah disediakan/dibangun oleh bahasa pemrograman python yang dapat digunakan untuk berbagai hal sesuai dengan fungsinya\n",
    "\n",
    "contoh:\n",
    "1. min()\n",
    "2. max()\n",
    "3. sorted()"
   ]
  },
  {
   "cell_type": "code",
   "execution_count": 2,
   "metadata": {
    "colab": {},
    "colab_type": "code",
    "id": "Xv7lHkgfYruY"
   },
   "outputs": [
    {
     "name": "stdout",
     "output_type": "stream",
     "text": [
      "Nilai Min dari List: 0\n",
      "Nilai Min dari List: 9\n",
      "Sorted List: [0, 1, 2, 4, 5, 6, 9]\n"
     ]
    }
   ],
   "source": [
    "# Contoh penggunaan built in function\n",
    "list = [5,2,6,4,1,9,0]\n",
    "\n",
    "# nilai minim\n",
    "print(\"Nilai Min dari List:\", min(list))\n",
    "\n",
    "# nilai maxim\n",
    "print(\"Nilai Min dari List:\", max(list))\n",
    "\n",
    "# list di sort\n",
    "print(\"Sorted List:\", sorted(list))"
   ]
  },
  {
   "cell_type": "markdown",
   "metadata": {
    "colab_type": "text",
    "id": "yhWXiPNDYrul"
   },
   "source": [
    "<h2>Soal 3: Method dan Function</h2>\n",
    "\n",
    "Jawab Pertanyaan di bawah ini:\n",
    "    \n",
    "- Apa perbedaan method dan function?"
   ]
  },
  {
   "cell_type": "markdown",
   "metadata": {
    "colab_type": "text",
    "id": "rqpTJlgDYrun"
   },
   "source": [
    "fungsi adalah sebuah statement yang dibuat di dalam blok dengan cara penulisan yang telah ditentukan, agar dapat digunakan terus menerus.\n",
    "\n",
    "method adalah suatu fungsi yang dimiliki oleh suatu object.\n",
    "\n",
    "Function adalah sebuah statement blok yang dibuat di luar sebuah class, \n",
    "sementara method adalah statement blok yang didefinisikan di dalam sebuah class."
   ]
  },
  {
   "cell_type": "markdown",
   "metadata": {
    "colab_type": "text",
    "id": "tUU1xgYBYrup"
   },
   "source": [
    "<h2>Soal 4: Menggunkan Method String</h2>\n",
    "\n",
    "Lengkapi kode untuk menghasilkan suatu output yang di harapkan"
   ]
  },
  {
   "cell_type": "code",
   "execution_count": 3,
   "metadata": {
    "colab": {},
    "colab_type": "code",
    "id": "037gauOGYrur"
   },
   "outputs": [
    {
     "name": "stdout",
     "output_type": "stream",
     "text": [
      "CORONA CEPAT SELESAI\n",
      "3\n"
     ]
    }
   ],
   "source": [
    "kalimat = \"Corona cepat selesai\"\n",
    "\n",
    "# gunakan method untuk mengubah nilai kalimat menjadi uppercase semua kemudian tampilkan hasilnya\n",
    "print(kalimat.upper())\n",
    "\n",
    "# gunakan method untuk menghitung berapa huruf e di dalam kalimat\n",
    "print(kalimat.count('e'))"
   ]
  },
  {
   "cell_type": "markdown",
   "metadata": {
    "colab_type": "text",
    "id": "fPTd4R5VYru5"
   },
   "source": [
    "Expected Output:\n",
    "\n",
    "CORONA CEPAT SELESAI\n",
    "\n",
    "3"
   ]
  },
  {
   "cell_type": "markdown",
   "metadata": {
    "colab_type": "text",
    "id": "IPjp5vwDYrvL"
   },
   "source": [
    "<h2>Soal 5: Membuat Simple Function</h2>\n",
    "\n",
    "Buatlah suatu fungsi yang menerima satu input argumen berbentuk list dan mempunyai elemen bertipe numeric semua, dimana fungsi tersebut berguna untuk menghitung rata2 dari kumpulan elemen list tersebut. namai fungsi tersebut 'mean_list'"
   ]
  },
  {
   "cell_type": "code",
   "execution_count": 4,
   "metadata": {
    "colab": {},
    "colab_type": "code",
    "id": "smoKI9zIYrvO"
   },
   "outputs": [
    {
     "name": "stdout",
     "output_type": "stream",
     "text": [
      "13.9\n"
     ]
    }
   ],
   "source": [
    "obj_list = [11.25, 18.0, 20.0, 10.75, 9.50]\n",
    "def mean_list(inp_list):\n",
    "    import statistics\n",
    "    result = statistics.mean(inp_list)\n",
    "    return result\n",
    "    \n",
    "print(mean_list(obj_list))"
   ]
  },
  {
   "cell_type": "markdown",
   "metadata": {
    "colab_type": "text",
    "id": "MVAvoHHgYrva"
   },
   "source": [
    "Expected Output:\n",
    "\n",
    "13.9"
   ]
  },
  {
   "cell_type": "markdown",
   "metadata": {
    "colab_type": "text",
    "id": "A8jjpNC8Yrvc"
   },
   "source": [
    "<h2>Soal 6: Membuat Function dengan Multiple arguments</h2>\n",
    "\n",
    "Buatlah suatu fungsi untuk melakukan penggabungan antara dua list"
   ]
  },
  {
   "cell_type": "code",
   "execution_count": 5,
   "metadata": {
    "colab": {},
    "colab_type": "code",
    "id": "r42z4mafYrve"
   },
   "outputs": [
    {
     "name": "stdout",
     "output_type": "stream",
     "text": [
      "[2, 4, 5, 6, 1, 2, 3]\n"
     ]
    }
   ],
   "source": [
    "obj_list = [2, 4, 5, 6]\n",
    "obj_penambah = [1, 2, 3]\n",
    "def kali_list(list1, list2):\n",
    "    list_concated = list1 + list2\n",
    "    return list_concated\n",
    "    \n",
    "print(kali_list(obj_list, obj_penambah))"
   ]
  },
  {
   "cell_type": "markdown",
   "metadata": {
    "colab_type": "text",
    "id": "RYhU921kYrvp"
   },
   "source": [
    "Expected Output:\n",
    "\n",
    "[2, 4, 5, 6, 1, 2, 3]"
   ]
  }
 ],
 "metadata": {
  "colab": {
   "collapsed_sections": [],
   "name": "Tugas Hari 2.ipynb",
   "provenance": []
  },
  "kernelspec": {
   "display_name": "Python 3",
   "language": "python",
   "name": "python3"
  },
  "language_info": {
   "codemirror_mode": {
    "name": "ipython",
    "version": 3
   },
   "file_extension": ".py",
   "mimetype": "text/x-python",
   "name": "python",
   "nbconvert_exporter": "python",
   "pygments_lexer": "ipython3",
   "version": "3.7.6"
  }
 },
 "nbformat": 4,
 "nbformat_minor": 1
}
