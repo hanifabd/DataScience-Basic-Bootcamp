{
 "cells": [
  {
   "cell_type": "code",
   "execution_count": 2,
   "metadata": {
    "colab": {},
    "colab_type": "code",
    "id": "GyakVoXhBGrv",
    "outputId": "39b8ca38-73c2-4f96-a16b-9898575919b9"
   },
   "outputs": [
    {
     "data": {
      "text/html": [
       "<div>\n",
       "<style scoped>\n",
       "    .dataframe tbody tr th:only-of-type {\n",
       "        vertical-align: middle;\n",
       "    }\n",
       "\n",
       "    .dataframe tbody tr th {\n",
       "        vertical-align: top;\n",
       "    }\n",
       "\n",
       "    .dataframe thead th {\n",
       "        text-align: right;\n",
       "    }\n",
       "</style>\n",
       "<table border=\"1\" class=\"dataframe\">\n",
       "  <thead>\n",
       "    <tr style=\"text-align: right;\">\n",
       "      <th></th>\n",
       "      <th>siswa_id</th>\n",
       "      <th>pelajaran</th>\n",
       "      <th>nilai</th>\n",
       "      <th>jenis-kelamin</th>\n",
       "      <th>kelas</th>\n",
       "    </tr>\n",
       "  </thead>\n",
       "  <tbody>\n",
       "    <tr>\n",
       "      <th>0</th>\n",
       "      <td>1</td>\n",
       "      <td>Biologi</td>\n",
       "      <td>63</td>\n",
       "      <td>perempuan</td>\n",
       "      <td>12D</td>\n",
       "    </tr>\n",
       "    <tr>\n",
       "      <th>1</th>\n",
       "      <td>2</td>\n",
       "      <td>Kimia</td>\n",
       "      <td>92</td>\n",
       "      <td>laki-laki</td>\n",
       "      <td>12C</td>\n",
       "    </tr>\n",
       "    <tr>\n",
       "      <th>2</th>\n",
       "      <td>3</td>\n",
       "      <td>Kimia</td>\n",
       "      <td>11</td>\n",
       "      <td>laki-laki</td>\n",
       "      <td>12C</td>\n",
       "    </tr>\n",
       "    <tr>\n",
       "      <th>3</th>\n",
       "      <td>4</td>\n",
       "      <td>Ekonomi</td>\n",
       "      <td>75</td>\n",
       "      <td>laki-laki</td>\n",
       "      <td>12D</td>\n",
       "    </tr>\n",
       "    <tr>\n",
       "      <th>4</th>\n",
       "      <td>5</td>\n",
       "      <td>Biologi</td>\n",
       "      <td>33</td>\n",
       "      <td>perempuan</td>\n",
       "      <td>12B</td>\n",
       "    </tr>\n",
       "  </tbody>\n",
       "</table>\n",
       "</div>"
      ],
      "text/plain": [
       "   siswa_id pelajaran  nilai jenis-kelamin kelas\n",
       "0         1   Biologi     63     perempuan   12D\n",
       "1         2     Kimia     92     laki-laki   12C\n",
       "2         3     Kimia     11     laki-laki   12C\n",
       "3         4   Ekonomi     75     laki-laki   12D\n",
       "4         5   Biologi     33     perempuan   12B"
      ]
     },
     "execution_count": 2,
     "metadata": {},
     "output_type": "execute_result"
    }
   ],
   "source": [
    "# Persiapan membuat data\n",
    "import pandas as pd\n",
    "import random\n",
    "\n",
    "pelajaran = ['Matematika', 'Fisika', 'Biologi', 'Kimia', 'Geologi', 'Ekonomi']\n",
    "kelas = ['12A', '12B', '12C', '12D']\n",
    "\n",
    "hasil_nilai = {\n",
    "    'siswa_id' : range(1, 21),\n",
    "    'pelajaran' : [random.choice(pelajaran) for i in range(20)],\n",
    "    'nilai' : [random.choice(range(0, 100)) for i in range(20)],\n",
    "    'jenis-kelamin' : [random.choice(['laki-laki', 'perempuan']) for i in range(20)],\n",
    "    'kelas' : [random.choice(kelas) for i in range(20)]\n",
    "}\n",
    "\n",
    "df = pd.DataFrame(hasil_nilai)\n",
    "df.head()"
   ]
  },
  {
   "cell_type": "markdown",
   "metadata": {
    "colab_type": "text",
    "id": "aNoScqypBGr5"
   },
   "source": [
    "<h2>Soal 1: Indexing</h2>\n",
    "\n",
    "1. Lakukan indexing terhadap dataframe untuk mengakses column nilai dan kelas saja\n",
    "2. Lakukan indexing terhadap dataframe untuk mengakses row 5 sampai 10 beserta column pelajaran dan nilai"
   ]
  },
  {
   "cell_type": "code",
   "execution_count": 15,
   "metadata": {
    "colab": {},
    "colab_type": "code",
    "id": "rKmgvnS2BGr6"
   },
   "outputs": [
    {
     "data": {
      "text/html": [
       "<div>\n",
       "<style scoped>\n",
       "    .dataframe tbody tr th:only-of-type {\n",
       "        vertical-align: middle;\n",
       "    }\n",
       "\n",
       "    .dataframe tbody tr th {\n",
       "        vertical-align: top;\n",
       "    }\n",
       "\n",
       "    .dataframe thead th {\n",
       "        text-align: right;\n",
       "    }\n",
       "</style>\n",
       "<table border=\"1\" class=\"dataframe\">\n",
       "  <thead>\n",
       "    <tr style=\"text-align: right;\">\n",
       "      <th></th>\n",
       "      <th>pelajaran</th>\n",
       "      <th>nilai</th>\n",
       "    </tr>\n",
       "  </thead>\n",
       "  <tbody>\n",
       "    <tr>\n",
       "      <th>4</th>\n",
       "      <td>Biologi</td>\n",
       "      <td>33</td>\n",
       "    </tr>\n",
       "    <tr>\n",
       "      <th>10</th>\n",
       "      <td>Ekonomi</td>\n",
       "      <td>85</td>\n",
       "    </tr>\n",
       "  </tbody>\n",
       "</table>\n",
       "</div>"
      ],
      "text/plain": [
       "   pelajaran  nilai\n",
       "4    Biologi     33\n",
       "10   Ekonomi     85"
      ]
     },
     "execution_count": 15,
     "metadata": {},
     "output_type": "execute_result"
    }
   ],
   "source": [
    "# code here\n",
    "# 1\n",
    "nk = df[['nilai','kelas']]\n",
    "nk\n",
    "\n",
    "# 2\n",
    "pn510 = df.loc[[4,10],['pelajaran','nilai']]\n",
    "pn510"
   ]
  },
  {
   "cell_type": "markdown",
   "metadata": {
    "colab_type": "text",
    "id": "F55zUl5GBGr_"
   },
   "source": [
    "<h2>Soal 2: Filter DataFrame Dengan Boolean</h2>\n",
    "\n",
    "1. Tampilkan semua data siswa pada mata pelajaran Ekonomi dan Fisika\n",
    "2. Tampilkan semua data siswa yang mempunyai nilai lebih dari 50 di mata pelajaran Kimia \n",
    "3. Tampilkan semua data yang mempunyai nilai lebih dari 70, berjnis kelamin perempuan dan di kelas 12C"
   ]
  },
  {
   "cell_type": "code",
   "execution_count": 24,
   "metadata": {
    "colab": {},
    "colab_type": "code",
    "id": "eB5oSf_KBGsA"
   },
   "outputs": [
    {
     "ename": "SyntaxError",
     "evalue": "can't assign to operator (<ipython-input-24-a350dd959f01>, line 16)",
     "output_type": "error",
     "traceback": [
      "\u001b[1;36m  File \u001b[1;32m\"<ipython-input-24-a350dd959f01>\"\u001b[1;36m, line \u001b[1;32m16\u001b[0m\n\u001b[1;33m    perempuan = df.jenis-kelamin = 'perempuan'\u001b[0m\n\u001b[1;37m               ^\u001b[0m\n\u001b[1;31mSyntaxError\u001b[0m\u001b[1;31m:\u001b[0m can't assign to operator\n"
     ]
    }
   ],
   "source": [
    "# code here\n",
    "# 1\n",
    "eko = df.pelajaran == 'Ekonomi'\n",
    "fisik = df.pelajaran == 'Fisika'\n",
    "print(df[(eko) | (fisik)])\n",
    "print('\\n')\n",
    "\n",
    "# 2\n",
    "lebih_50 = df.nilai > 50\n",
    "kimia = df.pelajaran == 'Kimia'\n",
    "print(df[(lebih_50) & (kimia)])\n",
    "print('\\n')\n",
    "\n",
    "# 3\n",
    "lebih_70 = df.nilai > 70\n",
    "perempuan = df.jenis-kelamin == 'perempuan'\n",
    "kelas_12c = df.kelas == '12C'\n",
    "print([(lebih_70) & (perempuan) & (kelas_12c)])"
   ]
  },
  {
   "cell_type": "markdown",
   "metadata": {
    "colab_type": "text",
    "id": "6Od6R3H1BGsE"
   },
   "source": [
    "<h2>Soal 3: Data Transformation</h2>\n",
    "\n",
    "lakukan data transformasi terhadap column 'nilai' dengan fungsi transformasi, berikut rumus dari normalisasi\n",
    "\n",
    "![alt text](https://drive.google.com/uc?id=1wed-EbRSTA0JP1ceDp6lcKBqH2yJ4aa3)"
   ]
  },
  {
   "cell_type": "code",
   "execution_count": 0,
   "metadata": {
    "colab": {},
    "colab_type": "code",
    "id": "qeV_iH8nBGsF"
   },
   "outputs": [],
   "source": [
    "# code here\n"
   ]
  }
 ],
 "metadata": {
  "colab": {
   "name": "Tugas Hari 2 Pekan 2.ipynb",
   "provenance": []
  },
  "kernelspec": {
   "display_name": "Python 3",
   "language": "python",
   "name": "python3"
  },
  "language_info": {
   "codemirror_mode": {
    "name": "ipython",
    "version": 3
   },
   "file_extension": ".py",
   "mimetype": "text/x-python",
   "name": "python",
   "nbconvert_exporter": "python",
   "pygments_lexer": "ipython3",
   "version": "3.7.6"
  }
 },
 "nbformat": 4,
 "nbformat_minor": 1
}
